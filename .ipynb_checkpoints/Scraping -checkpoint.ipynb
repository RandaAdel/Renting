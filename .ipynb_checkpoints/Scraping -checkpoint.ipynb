{
 "cells": [
  {
   "cell_type": "code",
   "execution_count": 52,
   "id": "81e7c8fd",
   "metadata": {},
   "outputs": [],
   "source": [
    "from selenium import webdriver\n",
    "from selenium.webdriver.chrome.service import Service\n",
    "from webdriver_manager.chrome import ChromeDriverManager\n",
    "import time"
   ]
  },
  {
   "cell_type": "code",
   "execution_count": 58,
   "id": "b1050297",
   "metadata": {},
   "outputs": [],
   "source": [
    "import requests\n",
    "from bs4 import BeautifulSoup\n",
    "import pandas as pd"
   ]
  },
  {
   "cell_type": "code",
   "execution_count": 56,
   "id": "c7f599ef",
   "metadata": {},
   "outputs": [],
   "source": [
    "# Open the website on the search I want and reject the cookies button and save my choices\n",
    "url = \"https://www.rightmove.co.uk/property-to-rent/find.html?locationIdentifier=REGION%5E61480&maxBedrooms=3&minBedrooms=2&propertyTypes=&includeLetAgreed=false&mustHave=&dontShow=&furnishTypes=&keywords=\"\n",
    "driver = webdriver.Chrome(service=Service(ChromeDriverManager().install()))\n",
    "driver.get(url)\n",
    "driver.maximize_window()\n",
    "time.sleep(5)\n",
    "#Click reject button to be able to scrape the images \n",
    "driver.find_element(\"xpath\", \"//button[@id='onetrust-pc-btn-handler']\").click()\n",
    "time.sleep(5)\n",
    "driver.find_element(\"xpath\",\"//button[@class='save-preference-btn-handler onetrust-close-btn-handler']\").click()\n"
   ]
  },
  {
   "cell_type": "code",
   "execution_count": 57,
   "id": "7655915a",
   "metadata": {},
   "outputs": [
    {
     "name": "stdout",
     "output_type": "stream",
     "text": [
      "https://www.rightmove.co.uk/properties/127792478#/?channel=RES_LET\n",
      "https://www.rightmove.co.uk/properties/128807882#/?channel=RES_LET\n",
      "https://www.rightmove.co.uk/properties/136519700#/?channel=RES_LET\n",
      "https://www.rightmove.co.uk/properties/136506758#/?channel=RES_LET\n",
      "https://www.rightmove.co.uk/properties/136505696#/?channel=RES_LET\n",
      "https://www.rightmove.co.uk/properties/136503068#/?channel=RES_LET\n",
      "https://www.rightmove.co.uk/properties/136502456#/?channel=RES_LET\n",
      "https://www.rightmove.co.uk/properties/136500905#/?channel=RES_LET\n",
      "https://www.rightmove.co.uk/properties/136495601#/?channel=RES_LET\n",
      "https://www.rightmove.co.uk/properties/136491902#/?channel=RES_LET\n",
      "https://www.rightmove.co.uk/properties/81886769#/?channel=RES_LET\n",
      "https://www.rightmove.co.uk/properties/136489589#/?channel=RES_LET\n",
      "https://www.rightmove.co.uk/properties/136487018#/?channel=RES_LET\n",
      "https://www.rightmove.co.uk/properties/133228757#/?channel=RES_LET\n",
      "https://www.rightmove.co.uk/properties/136484921#/?channel=RES_LET\n",
      "https://www.rightmove.co.uk/properties/136478444#/?channel=RES_LET\n",
      "https://www.rightmove.co.uk/properties/136477973#/?channel=RES_LET\n",
      "https://www.rightmove.co.uk/properties/135095411#/?channel=RES_LET\n",
      "https://www.rightmove.co.uk/properties/135973205#/?channel=RES_LET\n",
      "https://www.rightmove.co.uk/properties/136474571#/?channel=RES_LET\n",
      "https://www.rightmove.co.uk/properties/136473461#/?channel=RES_LET\n",
      "https://www.rightmove.co.uk/properties/136472180#/?channel=RES_LET\n",
      "https://www.rightmove.co.uk/properties/136458917#/?channel=RES_LET\n",
      "https://www.rightmove.co.uk/properties/136452002#/?channel=RES_LET\n",
      "https://www.rightmove.co.uk/properties/136451585#/?channel=RES_LET\n"
     ]
    }
   ],
   "source": [
    "elements = driver.find_elements(\"xpath\", '//a[@class=\"propertyCard-link property-card-updates\"]')\n",
    "\n",
    "urls = []\n",
    "for element in elements:\n",
    "    url = element.get_attribute('href')\n",
    "    urls.append(url)\n",
    "    print(url)"
   ]
  },
  {
   "cell_type": "code",
   "execution_count": 55,
   "id": "0cc13c00",
   "metadata": {},
   "outputs": [
    {
     "data": {
      "text/plain": [
       "25"
      ]
     },
     "execution_count": 55,
     "metadata": {},
     "output_type": "execute_result"
    }
   ],
   "source": [
    "len(urls)"
   ]
  },
  {
   "cell_type": "code",
   "execution_count": null,
   "id": "dfccc31e",
   "metadata": {},
   "outputs": [],
   "source": [
    "## class for Letting details: \n",
    "## _2RnXSVJcWbWv4IpBC1Sng6\n",
    "##\n",
    "## class for price: \n",
    "## _1gfnqJ3Vtd1z40MlC0MzXu\n",
    "##\n",
    "## class for address: \n",
    "## _2uQQ3SV0eMHL1P6t5ZDo2q\n",
    "##\n",
    "## class for Property type:\n",
    "## _3gIoc-NFXILAOZEaEjJi1n\n",
    "##"
   ]
  },
  {
   "cell_type": "code",
   "execution_count": 59,
   "id": "0e9860b7",
   "metadata": {},
   "outputs": [],
   "source": [
    "base_url = urls[0]\n",
    "response = requests.get(base_url)\n",
    "\n",
    "# Parse content\n",
    "content = response.content\n",
    "soup = BeautifulSoup(content, 'html.parser')"
   ]
  },
  {
   "cell_type": "code",
   "execution_count": 73,
   "id": "94a974ad",
   "metadata": {},
   "outputs": [
    {
     "name": "stdout",
     "output_type": "stream",
     "text": [
      "Let available date: 27/06/2023\n",
      "Deposit: Ask agentA deposit provides security for a landlord against damage, or unpaid rent by a tenant.Read more about deposit in our glossary page.\n",
      "Min. Tenancy: Ask agent\n",
      "Let type: Long term\n",
      "Furnish type: Ask agent\n",
      "Council Tax: Ask agent\n"
     ]
    }
   ],
   "source": [
    "a_elements = soup.find_all('div', {'class': '_2RnXSVJcWbWv4IpBC1Sng6'})\n",
    "\n",
    "for a_element in a_elements:\n",
    "    term = a_element.dt.text.strip()\n",
    "    description = a_element.dd.text.strip()\n",
    "    print(term, description)"
   ]
  },
  {
   "cell_type": "code",
   "execution_count": null,
   "id": "ec14f813",
   "metadata": {},
   "outputs": [],
   "source": []
  },
  {
   "cell_type": "code",
   "execution_count": 68,
   "id": "3cd13805",
   "metadata": {},
   "outputs": [
    {
     "name": "stdout",
     "output_type": "stream",
     "text": [
      "<div class=\"_2RnXSVJcWbWv4IpBC1Sng6\"><dt>Let available date: </dt><dd>27/06/2023</dd></div> \n",
      "\n",
      "<div class=\"_2RnXSVJcWbWv4IpBC1Sng6\"><dt>Deposit: </dt><dd>Ask agent<span class=\"Kn64CpaGkZuigLbd4_JAe\"><button aria-describedby=\"tooltip-deposit\" aria-label=\"Note on deposit\" class=\"_2X1KAdDzygndqawAwAH68q\"><svg aria-hidden=\"true\" class=\"_3hLm0Uw7BrueU7gqoQ8mzl\" data-testid=\"svg-info-icon\" role=\"img\"><use xlink:href=\"#info-icon\"></use></svg></button><span class=\"ghO4chEyicwngQdAjtbfJ\" id=\"tooltip-deposit\" role=\"tooltip\">A deposit provides security for a landlord against damage, or unpaid rent by a tenant.<a class=\"_2YHbijlQaS1lGcgzzoEB1W\" href=\"https://www.rightmove.co.uk/guides/property-details-glossary/#definition-security-deposit\" target=\"_blank\">Read more<!-- --> <span class=\"IXVVsLB2oKjvoYlqCYKJn\">about <!-- -->deposit<!-- --> in our glossary page.</span></a></span><span class=\"_1a4LLGa5u7UowemW69eNQt\"></span></span></dd></div> \n",
      "\n",
      "<div class=\"_2RnXSVJcWbWv4IpBC1Sng6\"><dt>Min. Tenancy: </dt><dd>Ask agent</dd><span class=\"Kn64CpaGkZuigLbd4_JAe\"><button aria-describedby=\"tooltip-tenancy-length\" aria-label=\"Note on tenancy length\" class=\"_2X1KAdDzygndqawAwAH68q\"><svg aria-hidden=\"true\" class=\"_3hLm0Uw7BrueU7gqoQ8mzl\" data-testid=\"svg-info-icon\" role=\"img\"><use xlink:href=\"#info-icon\"></use></svg></button><span class=\"ghO4chEyicwngQdAjtbfJ\" id=\"tooltip-tenancy-length\" role=\"tooltip\">How long the landlord offers to let the property for.<a class=\"_2YHbijlQaS1lGcgzzoEB1W\" href=\"https://www.rightmove.co.uk/guides/property-details-glossary/#definition-tenancy-length\" target=\"_blank\">Read more<!-- --> <span class=\"IXVVsLB2oKjvoYlqCYKJn\">about <!-- -->tenancy length<!-- --> in our glossary page.</span></a></span><span class=\"_1a4LLGa5u7UowemW69eNQt\"></span></span></div> \n",
      "\n",
      "<div class=\"_2RnXSVJcWbWv4IpBC1Sng6\"><dt>Let type: </dt><dd>Long term</dd></div> \n",
      "\n",
      "<div class=\"_2RnXSVJcWbWv4IpBC1Sng6\"><dt>Furnish type: </dt><dd>Ask agent</dd></div> \n",
      "\n",
      "<div class=\"_2RnXSVJcWbWv4IpBC1Sng6\"><dt>Council Tax: </dt><dd>Ask agent</dd></div> \n",
      "\n"
     ]
    }
   ],
   "source": [
    "for i in a_elements:\n",
    "    print(i, '\\n')"
   ]
  },
  {
   "cell_type": "code",
   "execution_count": null,
   "id": "c81f6bcb",
   "metadata": {},
   "outputs": [],
   "source": []
  },
  {
   "cell_type": "code",
   "execution_count": null,
   "id": "4fe28d29",
   "metadata": {},
   "outputs": [],
   "source": []
  },
  {
   "cell_type": "code",
   "execution_count": null,
   "id": "b6ee3da8",
   "metadata": {},
   "outputs": [],
   "source": []
  },
  {
   "cell_type": "code",
   "execution_count": null,
   "id": "caffc8ab",
   "metadata": {},
   "outputs": [],
   "source": []
  },
  {
   "cell_type": "code",
   "execution_count": null,
   "id": "88bd9f35",
   "metadata": {},
   "outputs": [],
   "source": []
  },
  {
   "cell_type": "code",
   "execution_count": null,
   "id": "2337e7a4",
   "metadata": {},
   "outputs": [],
   "source": []
  },
  {
   "cell_type": "code",
   "execution_count": null,
   "id": "66c9f5ff",
   "metadata": {},
   "outputs": [],
   "source": []
  },
  {
   "cell_type": "code",
   "execution_count": null,
   "id": "4a9b5b2f",
   "metadata": {},
   "outputs": [],
   "source": []
  },
  {
   "cell_type": "code",
   "execution_count": null,
   "id": "a685598a",
   "metadata": {},
   "outputs": [],
   "source": []
  },
  {
   "cell_type": "code",
   "execution_count": null,
   "id": "207f1530",
   "metadata": {},
   "outputs": [],
   "source": []
  },
  {
   "cell_type": "code",
   "execution_count": null,
   "id": "a88579c0",
   "metadata": {},
   "outputs": [],
   "source": []
  },
  {
   "cell_type": "code",
   "execution_count": null,
   "id": "e2a09031",
   "metadata": {},
   "outputs": [],
   "source": []
  },
  {
   "cell_type": "code",
   "execution_count": null,
   "id": "3bfd1a38",
   "metadata": {},
   "outputs": [],
   "source": []
  },
  {
   "cell_type": "code",
   "execution_count": null,
   "id": "bcc9cff4",
   "metadata": {},
   "outputs": [],
   "source": []
  },
  {
   "cell_type": "code",
   "execution_count": null,
   "id": "1b1a9940",
   "metadata": {},
   "outputs": [],
   "source": []
  },
  {
   "cell_type": "code",
   "execution_count": null,
   "id": "5d848fd1",
   "metadata": {},
   "outputs": [],
   "source": []
  },
  {
   "cell_type": "code",
   "execution_count": null,
   "id": "f3c427c7",
   "metadata": {},
   "outputs": [],
   "source": []
  },
  {
   "cell_type": "code",
   "execution_count": null,
   "id": "d55b09a3",
   "metadata": {},
   "outputs": [],
   "source": []
  },
  {
   "cell_type": "code",
   "execution_count": null,
   "id": "d8107950",
   "metadata": {},
   "outputs": [],
   "source": []
  },
  {
   "cell_type": "code",
   "execution_count": null,
   "id": "6412f37c",
   "metadata": {},
   "outputs": [],
   "source": []
  },
  {
   "cell_type": "code",
   "execution_count": null,
   "id": "a1ffa4e0",
   "metadata": {},
   "outputs": [],
   "source": []
  },
  {
   "cell_type": "code",
   "execution_count": null,
   "id": "2731cf9e",
   "metadata": {},
   "outputs": [],
   "source": []
  },
  {
   "cell_type": "code",
   "execution_count": null,
   "id": "0bdf818c",
   "metadata": {},
   "outputs": [],
   "source": []
  }
 ],
 "metadata": {
  "kernelspec": {
   "display_name": "Python 3 (ipykernel)",
   "language": "python",
   "name": "python3"
  },
  "language_info": {
   "codemirror_mode": {
    "name": "ipython",
    "version": 3
   },
   "file_extension": ".py",
   "mimetype": "text/x-python",
   "name": "python",
   "nbconvert_exporter": "python",
   "pygments_lexer": "ipython3",
   "version": "3.10.11"
  }
 },
 "nbformat": 4,
 "nbformat_minor": 5
}
